{
  "nbformat": 4,
  "nbformat_minor": 0,
  "metadata": {
    "colab": {
      "name": "TransE embeddings.ipynb",
      "provenance": []
    },
    "kernelspec": {
      "name": "python3",
      "display_name": "Python 3"
    },
    "language_info": {
      "name": "python"
    },
    "accelerator": "GPU"
  },
  "cells": [
    {
      "cell_type": "code",
      "execution_count": 1,
      "metadata": {
        "colab": {
          "base_uri": "https://localhost:8080/"
        },
        "id": "QdLgjv0Vdy5H",
        "outputId": "81ee9821-0e1e-4b75-c64c-26e8fd7312f6"
      },
      "outputs": [
        {
          "output_type": "stream",
          "name": "stdout",
          "text": [
            "Cloning into 'OpenKE'...\n",
            "remote: Enumerating objects: 1276, done.\u001b[K\n",
            "remote: Total 1276 (delta 0), reused 0 (delta 0), pack-reused 1276\u001b[K\n",
            "Receiving objects: 100% (1276/1276), 287.90 MiB | 26.31 MiB/s, done.\n",
            "Resolving deltas: 100% (610/610), done.\n",
            "/content/OpenKE\n",
            "/content/OpenKE/openke\n",
            "/content\n"
          ]
        }
      ],
      "source": [
        "!git clone -b OpenKE-PyTorch https://github.com/thunlp/OpenKE\n",
        "%cd OpenKE/\n",
        "!mkdir checkpoint\n",
        "!mkdir result\n",
        "%cd openke\n",
        "!bash make.sh\n",
        "%cd /content"
      ]
    },
    {
      "cell_type": "code",
      "source": [
        "!git clone https://github.com/ContentSide/French_Knowledge_Graph.git"
      ],
      "metadata": {
        "colab": {
          "base_uri": "https://localhost:8080/"
        },
        "id": "IYK59Nsy062c",
        "outputId": "a4f7c21f-b143-4ca4-c783-7ea1107e1b65"
      },
      "execution_count": 2,
      "outputs": [
        {
          "output_type": "stream",
          "name": "stdout",
          "text": [
            "Cloning into 'French_Knowledge_Graph'...\n",
            "remote: Enumerating objects: 286, done.\u001b[K\n",
            "remote: Counting objects: 100% (26/26), done.\u001b[K\n",
            "remote: Compressing objects: 100% (9/9), done.\u001b[K\n",
            "remote: Total 286 (delta 22), reused 17 (delta 17), pack-reused 260\u001b[K\n",
            "Receiving objects: 100% (286/286), 38.27 MiB | 25.48 MiB/s, done.\n",
            "Resolving deltas: 100% (146/146), done.\n"
          ]
        }
      ]
    },
    {
      "cell_type": "code",
      "source": [
        "%cd OpenKE\n",
        "!cp -r ../French_Knowledge_Graph/benchmarks/RezoJDM16K benchmarks\n",
        "!mkdir benchmarks/RezoJDM16K/checkpoint\n",
        "!mkdir benchmarks/RezoJDM16K/result"
      ],
      "metadata": {
        "colab": {
          "base_uri": "https://localhost:8080/"
        },
        "id": "a_N8JuN-1N6w",
        "outputId": "6088a1d2-807d-4273-fa18-198d01d0033d"
      },
      "execution_count": 3,
      "outputs": [
        {
          "output_type": "stream",
          "name": "stdout",
          "text": [
            "/content/OpenKE\n"
          ]
        }
      ]
    },
    {
      "cell_type": "code",
      "source": [
        "import openke\n",
        "import numpy as np\n",
        "from openke.config import Trainer, Tester\n",
        "from openke.module.model import TransE\n",
        "from openke.module.loss import MarginLoss\n",
        "from openke.module.strategy import NegativeSampling\n",
        "from openke.data import TrainDataLoader, TestDataLoader\n",
        "\n",
        "# dataloader for training\n",
        "train_dataloader = TrainDataLoader(\n",
        "\tin_path = \"./benchmarks/RezoJDM16K/\", \n",
        "\tnbatches = 100,\n",
        "\tthreads = 8, \n",
        "\tsampling_mode = \"normal\", \n",
        "\tbern_flag = 1, \n",
        "\tfilter_flag = 1, \n",
        "\tneg_ent = 35,\n",
        "\tneg_rel = 0\n",
        ")\n",
        "\n",
        "# dataloader for test\n",
        "test_dataloader = TestDataLoader(\"./benchmarks/RezoJDM16K/\", \"link\")\n",
        "\n",
        "# define the model\n",
        "transe = TransE(\n",
        "\tent_tot = train_dataloader.get_ent_tot(),\n",
        "\trel_tot = train_dataloader.get_rel_tot(),\n",
        "\tdim = 100, \n",
        "\tp_norm = 1, \n",
        "\tnorm_flag = True\n",
        ")\n",
        "\n",
        "\n",
        "# define the loss function\n",
        "model = NegativeSampling(\n",
        "\tmodel = transe, \n",
        "\tloss = MarginLoss(margin = 4.0),\n",
        "\tbatch_size = train_dataloader.get_batch_size()\n",
        ")\n",
        "\n",
        "# train the model\n",
        "trainer = Trainer(model = model, data_loader = train_dataloader, train_times = 50, alpha = 1.0, use_gpu = True)\n",
        "trainer.run()\n",
        "transe.save_checkpoint('./checkpoint/transe.ckpt')\n",
        "\n",
        "# test the model\n",
        "transe.load_checkpoint('./checkpoint/transe.ckpt')\n",
        "tester = Tester(model = transe, data_loader = test_dataloader, use_gpu = True)\n",
        "# tester.run_link_prediction(type_constrain = False)"
      ],
      "metadata": {
        "id": "IV5ZQFmu12AY",
        "colab": {
          "base_uri": "https://localhost:8080/"
        },
        "outputId": "543d1b16-b8a5-42bd-9572-0bd7be29d267"
      },
      "execution_count": 4,
      "outputs": [
        {
          "output_type": "stream",
          "name": "stdout",
          "text": [
            "Finish initializing...\n"
          ]
        },
        {
          "output_type": "stream",
          "name": "stderr",
          "text": [
            "Epoch 49 | loss: 31.120690: 100%|██████████| 50/50 [04:45<00:00,  5.71s/it]\n"
          ]
        }
      ]
    },
    {
      "cell_type": "code",
      "source": [
        "ent_embeddings = transe.ent_embeddings.weight.detach().cpu().numpy()\n",
        "rel_embeddings = transe.rel_embeddings.weight.detach().cpu().numpy()\n",
        "np.save(\"./benchmarks/RezoJDM16K/entity2vec100.npy\", ent_embeddings)\n",
        "np.save(\"./benchmarks/RezoJDM16K/relation2vec100.npy\", rel_embeddings)"
      ],
      "metadata": {
        "id": "Q9OLTzWF3Q5k"
      },
      "execution_count": 5,
      "outputs": []
    },
    {
      "cell_type": "code",
      "source": [
        "relation_embs = np.load(\"./benchmarks/RezoJDM16K/relation2vec100.npy\")\n",
        "with open(\"./benchmarks/RezoJDM16K/relation2vec100.init\", \"w\") as fp:\n",
        "    for relation_emb in list(relation_embs):\n",
        "        line = \"\\t\".join(str(w) for w in list(relation_emb))\n",
        "        fp.write(f\"{line}\\t\\n\")\n",
        "\n",
        "entity_embs = np.load(\"./benchmarks/RezoJDM16K/entity2vec100.npy\")\n",
        "with open(\"./benchmarks/RezoJDM16K/entity2vec100.init\", \"w\") as fp:\n",
        "    for entity_emb in list(entity_embs):\n",
        "        line = \"\\t\".join(str(w) for w in list(entity_emb))\n",
        "        fp.write(f\"{line}\\t\\n\")"
      ],
      "metadata": {
        "id": "DAJS05u79ZjQ"
      },
      "execution_count": 6,
      "outputs": []
    },
    {
      "cell_type": "code",
      "source": [
        "%cd benchmarks/RezoJDM16K/\n",
        "!zip embeddings.zip relation2vec100.init entity2vec100.init"
      ],
      "metadata": {
        "colab": {
          "base_uri": "https://localhost:8080/"
        },
        "id": "lhzpcL1HHYnQ",
        "outputId": "3e3457d1-9014-4747-ab26-7994b37e53f6"
      },
      "execution_count": 7,
      "outputs": [
        {
          "output_type": "stream",
          "name": "stdout",
          "text": [
            "/content/OpenKE/benchmarks/RezoJDM16K\n",
            "  adding: relation2vec100.init (deflated 58%)\n",
            "  adding: entity2vec100.init (deflated 62%)\n"
          ]
        }
      ]
    },
    {
      "cell_type": "code",
      "source": [
        "from google.colab import files\n",
        "files.download(\"embeddings.zip\")"
      ],
      "metadata": {
        "colab": {
          "base_uri": "https://localhost:8080/",
          "height": 17
        },
        "id": "KLn0_I_EJS7Y",
        "outputId": "769328db-c402-4358-f665-1ca453337b33"
      },
      "execution_count": 8,
      "outputs": [
        {
          "output_type": "display_data",
          "data": {
            "text/plain": [
              "<IPython.core.display.Javascript object>"
            ],
            "application/javascript": [
              "\n",
              "    async function download(id, filename, size) {\n",
              "      if (!google.colab.kernel.accessAllowed) {\n",
              "        return;\n",
              "      }\n",
              "      const div = document.createElement('div');\n",
              "      const label = document.createElement('label');\n",
              "      label.textContent = `Downloading \"${filename}\": `;\n",
              "      div.appendChild(label);\n",
              "      const progress = document.createElement('progress');\n",
              "      progress.max = size;\n",
              "      div.appendChild(progress);\n",
              "      document.body.appendChild(div);\n",
              "\n",
              "      const buffers = [];\n",
              "      let downloaded = 0;\n",
              "\n",
              "      const channel = await google.colab.kernel.comms.open(id);\n",
              "      // Send a message to notify the kernel that we're ready.\n",
              "      channel.send({})\n",
              "\n",
              "      for await (const message of channel.messages) {\n",
              "        // Send a message to notify the kernel that we're ready.\n",
              "        channel.send({})\n",
              "        if (message.buffers) {\n",
              "          for (const buffer of message.buffers) {\n",
              "            buffers.push(buffer);\n",
              "            downloaded += buffer.byteLength;\n",
              "            progress.value = downloaded;\n",
              "          }\n",
              "        }\n",
              "      }\n",
              "      const blob = new Blob(buffers, {type: 'application/binary'});\n",
              "      const a = document.createElement('a');\n",
              "      a.href = window.URL.createObjectURL(blob);\n",
              "      a.download = filename;\n",
              "      div.appendChild(a);\n",
              "      a.click();\n",
              "      div.remove();\n",
              "    }\n",
              "  "
            ]
          },
          "metadata": {}
        },
        {
          "output_type": "display_data",
          "data": {
            "text/plain": [
              "<IPython.core.display.Javascript object>"
            ],
            "application/javascript": [
              "download(\"download_7d3b2150-d085-4cc2-b3d5-256dacb10d70\", \"embeddings.zip\", 7604645)"
            ]
          },
          "metadata": {}
        }
      ]
    },
    {
      "cell_type": "code",
      "source": [
        ""
      ],
      "metadata": {
        "id": "ngmhNudkJZ1k"
      },
      "execution_count": null,
      "outputs": []
    }
  ]
}