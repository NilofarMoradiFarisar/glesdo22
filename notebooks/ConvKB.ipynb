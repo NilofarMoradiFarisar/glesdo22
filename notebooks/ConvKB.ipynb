{
  "nbformat": 4,
  "nbformat_minor": 0,
  "metadata": {
    "colab": {
      "name": "ConvKB.ipynb",
      "provenance": [],
      "collapsed_sections": []
    },
    "kernelspec": {
      "name": "python3",
      "display_name": "Python 3"
    },
    "language_info": {
      "name": "python"
    }
  },
  "cells": [
    {
      "cell_type": "code",
      "source": [
        "# Not mandatory, but it makes sure we're using the same env as the authors\n",
        "!pip uninstall --yes torchtext torchaudio\n",
        "!pip install torch==1.5.0 torchvision==0.6.0"
      ],
      "metadata": {
        "colab": {
          "base_uri": "https://localhost:8080/"
        },
        "id": "FVpWStEFKPpU",
        "outputId": "02c6ff20-460f-4efe-adf8-bfe86b1ea64c"
      },
      "execution_count": 1,
      "outputs": [
        {
          "output_type": "stream",
          "name": "stdout",
          "text": [
            "Found existing installation: torchtext 0.12.0\n",
            "Uninstalling torchtext-0.12.0:\n",
            "  Successfully uninstalled torchtext-0.12.0\n",
            "Found existing installation: torchaudio 0.11.0+cu113\n",
            "Uninstalling torchaudio-0.11.0+cu113:\n",
            "  Successfully uninstalled torchaudio-0.11.0+cu113\n",
            "Collecting torch==1.5.0\n",
            "  Downloading torch-1.5.0-cp37-cp37m-manylinux1_x86_64.whl (752.0 MB)\n",
            "\u001b[K     |████████████████████████████████| 752.0 MB 10 kB/s \n",
            "\u001b[?25hCollecting torchvision==0.6.0\n",
            "  Downloading torchvision-0.6.0-cp37-cp37m-manylinux1_x86_64.whl (6.6 MB)\n",
            "\u001b[K     |████████████████████████████████| 6.6 MB 33.8 MB/s \n",
            "\u001b[?25hRequirement already satisfied: future in /usr/local/lib/python3.7/dist-packages (from torch==1.5.0) (0.16.0)\n",
            "Requirement already satisfied: numpy in /usr/local/lib/python3.7/dist-packages (from torch==1.5.0) (1.21.6)\n",
            "Requirement already satisfied: pillow>=4.1.1 in /usr/local/lib/python3.7/dist-packages (from torchvision==0.6.0) (7.1.2)\n",
            "Installing collected packages: torch, torchvision\n",
            "  Attempting uninstall: torch\n",
            "    Found existing installation: torch 1.11.0+cu113\n",
            "    Uninstalling torch-1.11.0+cu113:\n",
            "      Successfully uninstalled torch-1.11.0+cu113\n",
            "  Attempting uninstall: torchvision\n",
            "    Found existing installation: torchvision 0.12.0+cu113\n",
            "    Uninstalling torchvision-0.12.0+cu113:\n",
            "      Successfully uninstalled torchvision-0.12.0+cu113\n",
            "Successfully installed torch-1.5.0 torchvision-0.6.0\n"
          ]
        }
      ]
    },
    {
      "cell_type": "code",
      "source": [
        "!git clone https://github.com/daiquocnguyen/ConvKB.git"
      ],
      "metadata": {
        "colab": {
          "base_uri": "https://localhost:8080/"
        },
        "id": "spaNB708u8jQ",
        "outputId": "36301f8a-fa54-4acf-8dd0-3c7b6771c99e"
      },
      "execution_count": 2,
      "outputs": [
        {
          "output_type": "stream",
          "name": "stdout",
          "text": [
            "Cloning into 'ConvKB'...\n",
            "remote: Enumerating objects: 484, done.\u001b[K\n",
            "remote: Counting objects: 100% (44/44), done.\u001b[K\n",
            "remote: Compressing objects: 100% (37/37), done.\u001b[K\n",
            "remote: Total 484 (delta 23), reused 13 (delta 5), pack-reused 440\u001b[K\n",
            "Receiving objects: 100% (484/484), 64.98 MiB | 23.59 MiB/s, done.\n",
            "Resolving deltas: 100% (224/224), done.\n"
          ]
        }
      ]
    },
    {
      "cell_type": "code",
      "source": [
        "%cd /content/ConvKB/ConvKB_pytorch"
      ],
      "metadata": {
        "colab": {
          "base_uri": "https://localhost:8080/"
        },
        "id": "eG8_gUl5u_ew",
        "outputId": "550f9126-f4d2-4a55-fed4-a25f289223f6"
      },
      "execution_count": 3,
      "outputs": [
        {
          "output_type": "stream",
          "name": "stdout",
          "text": [
            "/content/ConvKB/ConvKB_pytorch\n"
          ]
        }
      ]
    },
    {
      "cell_type": "code",
      "source": [
        "# Make sure to upload RezoJDM16K-xp.zip to /content first\n",
        "!unzip /content/RezoJDM16K-xp.zip -d benchmarks/"
      ],
      "metadata": {
        "colab": {
          "base_uri": "https://localhost:8080/"
        },
        "id": "hxhjQkrFKinY",
        "outputId": "424b5e1b-cd3a-4ead-c631-a5a7d0db54d8"
      },
      "execution_count": 4,
      "outputs": [
        {
          "output_type": "stream",
          "name": "stdout",
          "text": [
            "Archive:  /content/RezoJDM16K-xp.zip\n",
            "   creating: benchmarks/RezoJDM16K/\n",
            "  inflating: benchmarks/RezoJDM16K/train2id.txt  \n",
            "  inflating: benchmarks/RezoJDM16K/n-1.txt  \n",
            "  inflating: benchmarks/RezoJDM16K/n-n.txt  \n",
            "  inflating: benchmarks/RezoJDM16K/entity2id_100init.txt  \n",
            "  inflating: benchmarks/RezoJDM16K/1-n.txt  \n",
            "  inflating: benchmarks/RezoJDM16K/relation2id.txt  \n",
            "  inflating: benchmarks/RezoJDM16K/entity2id.txt  \n",
            "  inflating: benchmarks/RezoJDM16K/test2id_all.txt  \n",
            "  inflating: benchmarks/RezoJDM16K/type_constrain.txt  \n",
            "  inflating: benchmarks/RezoJDM16K/valid2id.txt  \n",
            "  inflating: benchmarks/RezoJDM16K/1-1.txt  \n",
            "  inflating: benchmarks/RezoJDM16K/test2id.txt  \n",
            "  inflating: benchmarks/RezoJDM16K/relation2id_100init.txt  \n",
            "  inflating: benchmarks/RezoJDM16K/relation2vec100.init  \n",
            "  inflating: benchmarks/RezoJDM16K/entity2vec100.init  \n"
          ]
        }
      ]
    },
    {
      "cell_type": "code",
      "source": [
        "!python train_ConvKB.py \\\n",
        "    --dataset RezoJDM16K \\\n",
        "    --hidden_size 200 --num_of_filters 64 --neg_num 10 --valid_step 50 --nbatches 100 --num_epochs 1 --learning_rate 0.01 --lmbda 0.2  \\\n",
        "    --model_name RezoJDM16k_lda-0.2_nneg-10_nfilters-64_lr-0.01 \\\n",
        "    --mode train"
      ],
      "metadata": {
        "colab": {
          "base_uri": "https://localhost:8080/"
        },
        "id": "aew8STfTypS0",
        "outputId": "507c14da-6163-4338-f51c-acf4707738e9"
      },
      "execution_count": null,
      "outputs": [
        {
          "output_type": "stream",
          "name": "stdout",
          "text": [
            "Namespace(checkpoint_path=None, dataset='RezoJDM16K', dropout=0.5, hidden_size=200, kernel_size=1, learning_rate=0.01, lmbda=0.2, lmbda2=0.01, mode='train', model_name='RezoJDM16k_lda-0.2_nneg-10_nfilters-64_lr-0.01', nbatches=100, neg_num=10, num_epochs=1, num_of_filters=64, optim='adagrad', save_steps=1000, test_file='', use_init=1, valid_steps=50)\n",
            "Writing to /content/ConvKB/runs_pytorch_ConvKB\n",
            "\n",
            "Input Files Path : ./benchmarks/RezoJDM16K/\n",
            "Test File Path : \n",
            "The toolkit is importing datasets.\n",
            "The total of relations is 53.\n",
            "The total of entities is 15746.\n",
            "The total of train triples is 665674.\n",
            "The total of test triples is 83209.\n",
            "The total of valid triples is 83209.\n",
            "Initializing training model...\n",
            "Finish initializing\n",
            "  0% 0/1 [00:00<?, ?it/s]tcmalloc: large alloc 1874329600 bytes == 0x1b26a000 @  0x7f664de82b6b 0x7f664dea2379 0x7f65fe06104e 0x7f65fe062f4a 0x7f663b96895e 0x7f663b97c658 0x7f663b980fdd 0x7f663b9700f2 0x7f663b9708fe 0x7f663bab61b8 0x7f663bae5223 0x7f663d428075 0x7f663bae5223 0x7f663b4ebdec 0x7f663b4efad3 0x7f663baab312 0x7f663d440af7 0x7f663bae50c8 0x7f663b4ec81e 0x7f663b4eca84 0x7f663baaa9cb 0x7f663d43eacc 0x7f663bae4fef 0x7f663b4ed75b 0x7f663baabfa8 0x7f663d5a5402 0x7f663bae5223 0x7f6649c4de64 0x593784 0x548c51 0x51566f\n",
            "tcmalloc: large alloc 1874329600 bytes == 0x8adea000 @  0x7f664de82b6b 0x7f664dea2379 0x7f65fe06104e 0x7f65fe062f4a 0x7f663b777e9c 0x7f663b9e151b 0x7f663b9d36c7 0x7f663b9d3389 0x7f663b9d36c7 0x7f663b992c1e 0x7f663b9709cb 0x7f663bab61b8 0x7f663bae5223 0x7f663d428075 0x7f663bae5223 0x7f663b4ebdec 0x7f663b4efad3 0x7f663baab312 0x7f663d440af7 0x7f663bae50c8 0x7f663b4ec81e 0x7f663b4eca84 0x7f663baaa9cb 0x7f663d43eacc 0x7f663bae4fef 0x7f663b4ed75b 0x7f663baabfa8 0x7f663d5a5402 0x7f663bae5223 0x7f6649c4de64 0x593784\n",
            "tcmalloc: large alloc 1874329600 bytes == 0x1b26a000 @  0x7f664de82b6b 0x7f664dea2379 0x7f65fe06104e 0x7f65fe062f4a 0x7f663b777e9c 0x7f663b9e151b 0x7f663b9d36c7 0x7f663b9d3389 0x7f663b9d36c7 0x7f663b77f65e 0x7f663b785f50 0x7f663ba92321 0x7f663bae5623 0x7f663b65f2ea 0x7f663b66e763 0x7f663b660d3d 0x7f663b9fbf83 0x7f663ba22148 0x7f663d406b4a 0x7f663ba22148 0x7f663b661661 0x7f663baa94f0 0x7f663d5b84e4 0x7f663bae4e2a 0x7f663b65ed92 0x7f663baa91a0 0x7f663d5aa799 0x7f663bae4dea 0x7f6649c697f4 0x593784 0x548c51\n",
            "tcmalloc: large alloc 1874329600 bytes == 0xfa96a000 @  0x7f664de82b6b 0x7f664dea2379 0x7f65fe06104e 0x7f65fe062f4a 0x7f663b777e9c 0x7f663b9e151b 0x7f663b9d36c7 0x7f663b9d3389 0x7f663b9d36c7 0x7f663b79a42e 0x7f663b79b2af 0x7f663b79bb6c 0x7f663b79c216 0x7f663b4547a0 0x7f663b454eba 0x7f663b9de8f2 0x7f663ba23b32 0x7f663b45951d 0x7f663b9de2f0 0x7f663ba23a8d 0x7f663d3ef5dc 0x7f663ba23a8d 0x7f6649b5b667 0x7f6649bacebf 0x593784 0x548c51 0x51566f 0x549576 0x593fce 0x548ae9 0x5127f1\n",
            "tcmalloc: large alloc 1874329600 bytes == 0x16a4ea000 @  0x7f664de82b6b 0x7f664dea2379 0x7f65fe06104e 0x7f65fe062f4a 0x7f663b777e9c 0x7f663b9e151b 0x7f663b9d36c7 0x7f663b9d3389 0x7f663b9d36c7 0x7f663d6c5664 0x7f663b9d36c7 0x7f663b77f65e 0x7f663b785f50 0x7f663ba92321 0x7f663d3a5aa1 0x7f663bae5623 0x7f663b56b49a 0x7f663b56cb4f 0x7f663ba92f93 0x7f663d446477 0x7f663bae71f0 0x7f6649c36277 0x593784 0x548c51 0x51566f 0x549576 0x593fce 0x548ae9 0x51566f 0x4bc98a 0x59c019\n"
          ]
        }
      ]
    },
    {
      "cell_type": "markdown",
      "source": [
        "----"
      ],
      "metadata": {
        "id": "wHGT9Flz-YS4"
      }
    },
    {
      "cell_type": "code",
      "source": [
        ""
      ],
      "metadata": {
        "id": "r7plVVEl-ZBw"
      },
      "execution_count": null,
      "outputs": []
    }
  ]
}