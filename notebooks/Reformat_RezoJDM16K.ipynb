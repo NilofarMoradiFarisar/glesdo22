{
  "nbformat": 4,
  "nbformat_minor": 0,
  "metadata": {
    "colab": {
      "name": "Reformat RezoJDM16K.ipynb",
      "provenance": []
    },
    "kernelspec": {
      "name": "python3",
      "display_name": "Python 3"
    },
    "language_info": {
      "name": "python"
    }
  },
  "cells": [
    {
      "cell_type": "code",
      "execution_count": 1,
      "metadata": {
        "id": "IGN2FObKIH2s"
      },
      "outputs": [],
      "source": [
        "!mkdir RezoJDM16K\n",
        "!wget -q https://github.com/ContentSide/French_Knowledge_Graph/raw/master/benchmarks/RezoJDM16K/1-1.txt -O RezoJDM16K/1-1.txt\n",
        "!wget -q https://github.com/ContentSide/French_Knowledge_Graph/raw/master/benchmarks/RezoJDM16K/1-n.txt -O RezoJDM16K/1-n.txt \n",
        "!wget -q https://github.com/ContentSide/French_Knowledge_Graph/raw/master/benchmarks/RezoJDM16K/entity2id.txt -O RezoJDM16K/entity2id.txt\n",
        "!wget -q https://github.com/ContentSide/French_Knowledge_Graph/raw/master/benchmarks/RezoJDM16K/n-1.txt -O RezoJDM16K/n-1.txt\n",
        "!wget -q https://github.com/ContentSide/French_Knowledge_Graph/raw/master/benchmarks/RezoJDM16K/n-n.txt -O RezoJDM16K/n-n.txt\n",
        "!wget -q https://github.com/ContentSide/French_Knowledge_Graph/raw/master/benchmarks/RezoJDM16K/relation2id.txt -O RezoJDM16K/relation2id.txt\n",
        "!wget -q https://github.com/ContentSide/French_Knowledge_Graph/raw/master/benchmarks/RezoJDM16K/test2id.txt -O RezoJDM16K/test2id.txt\n",
        "!wget -q https://github.com/ContentSide/French_Knowledge_Graph/raw/master/benchmarks/RezoJDM16K/test2id_all.txt -O RezoJDM16K/test2id_all.txt\n",
        "!wget -q https://github.com/ContentSide/French_Knowledge_Graph/raw/master/benchmarks/RezoJDM16K/train2id.txt -O RezoJDM16K/train2id.txt\n",
        "!wget -q https://github.com/ContentSide/French_Knowledge_Graph/raw/master/benchmarks/RezoJDM16K/type_constrain.txt -O RezoJDM16K/type_constrain.txt\n",
        "!wget -q https://github.com/ContentSide/French_Knowledge_Graph/raw/master/benchmarks/RezoJDM16K/valid2id.txt -O RezoJDM16K/valid2id.txt"
      ]
    },
    {
      "cell_type": "code",
      "source": [
        "import re\n",
        "\n",
        "def normalize(label):\n",
        "    return re.sub(\" \", \"_\", label)\n",
        "\n",
        "with open(\"RezoJDM16K/entity2id.txt\", \"r\") as fp:\n",
        "    content = fp.read()\n",
        "content = content.splitlines(keepends=False)\n",
        "\n",
        "new_content = []\n",
        "new_content.append(content[0])\n",
        "for line in content[1:]:\n",
        "    name, identifier = line.split(\"\\t\")\n",
        "    new_content.append(f\"{normalize(name)}\\t{identifier}\")\n",
        "\n",
        "with open(\"RezoJDM16K/entity2id.txt\", \"w\") as fp:\n",
        "    for line in new_content:\n",
        "        fp.write(line)\n",
        "        if line is not new_content[-1]:\n",
        "            fp.write(\"\\n\")\n",
        "\n",
        "with open(\"RezoJDM16K/entity2id_100init.txt\", \"w\") as fp:\n",
        "    for line in new_content[1:]:\n",
        "        fp.write(line)\n",
        "        if line is not new_content[-1]:\n",
        "            fp.write(\"\\n\")\n",
        "\n",
        "with open(\"RezoJDM16K/relation2id.txt\", \"r\") as fp:\n",
        "    content = fp.read()\n",
        "content = content.splitlines(keepends=False)\n",
        "content = content[1:]\n",
        "with open(\"RezoJDM16K/relation2id_100init.txt\", \"w\") as fp:\n",
        "    for line in content:\n",
        "        fp.write(line)\n",
        "        if line is not content[-1]:\n",
        "            fp.write(\"\\n\")"
      ],
      "metadata": {
        "id": "POLp6lMlIRvg"
      },
      "execution_count": 4,
      "outputs": []
    },
    {
      "cell_type": "code",
      "source": [
        "!zip -r RezoJDM16K.zip RezoJDM16K"
      ],
      "metadata": {
        "colab": {
          "base_uri": "https://localhost:8080/"
        },
        "id": "2SHB3DWxIWCg",
        "outputId": "7a411746-7379-48d0-81e7-657ebcc3b6ba"
      },
      "execution_count": 5,
      "outputs": [
        {
          "output_type": "stream",
          "name": "stdout",
          "text": [
            "  adding: RezoJDM16K/ (stored 0%)\n",
            "  adding: RezoJDM16K/train2id.txt (deflated 68%)\n",
            "  adding: RezoJDM16K/n-1.txt (deflated 44%)\n",
            "  adding: RezoJDM16K/n-n.txt (deflated 59%)\n",
            "  adding: RezoJDM16K/entity2id_100init.txt (deflated 52%)\n",
            "  adding: RezoJDM16K/1-n.txt (deflated 58%)\n",
            "  adding: RezoJDM16K/relation2id.txt (deflated 49%)\n",
            "  adding: RezoJDM16K/entity2id.txt (deflated 52%)\n",
            "  adding: RezoJDM16K/test2id_all.txt (deflated 62%)\n",
            "  adding: RezoJDM16K/type_constrain.txt (deflated 56%)\n",
            "  adding: RezoJDM16K/valid2id.txt (deflated 59%)\n",
            "  adding: RezoJDM16K/1-1.txt (deflated 60%)\n",
            "  adding: RezoJDM16K/test2id.txt (deflated 59%)\n",
            "  adding: RezoJDM16K/relation2id_100init.txt (deflated 49%)\n"
          ]
        }
      ]
    },
    {
      "cell_type": "code",
      "source": [
        "from google.colab import files\n",
        "files.download(\"RezoJDM16K.zip\")"
      ],
      "metadata": {
        "colab": {
          "base_uri": "https://localhost:8080/",
          "height": 17
        },
        "id": "OtpCyIxLJnlQ",
        "outputId": "79e96103-6b9d-4c69-c6f1-0a78aa2b42d6"
      },
      "execution_count": 6,
      "outputs": [
        {
          "output_type": "display_data",
          "data": {
            "text/plain": [
              "<IPython.core.display.Javascript object>"
            ],
            "application/javascript": [
              "\n",
              "    async function download(id, filename, size) {\n",
              "      if (!google.colab.kernel.accessAllowed) {\n",
              "        return;\n",
              "      }\n",
              "      const div = document.createElement('div');\n",
              "      const label = document.createElement('label');\n",
              "      label.textContent = `Downloading \"${filename}\": `;\n",
              "      div.appendChild(label);\n",
              "      const progress = document.createElement('progress');\n",
              "      progress.max = size;\n",
              "      div.appendChild(progress);\n",
              "      document.body.appendChild(div);\n",
              "\n",
              "      const buffers = [];\n",
              "      let downloaded = 0;\n",
              "\n",
              "      const channel = await google.colab.kernel.comms.open(id);\n",
              "      // Send a message to notify the kernel that we're ready.\n",
              "      channel.send({})\n",
              "\n",
              "      for await (const message of channel.messages) {\n",
              "        // Send a message to notify the kernel that we're ready.\n",
              "        channel.send({})\n",
              "        if (message.buffers) {\n",
              "          for (const buffer of message.buffers) {\n",
              "            buffers.push(buffer);\n",
              "            downloaded += buffer.byteLength;\n",
              "            progress.value = downloaded;\n",
              "          }\n",
              "        }\n",
              "      }\n",
              "      const blob = new Blob(buffers, {type: 'application/binary'});\n",
              "      const a = document.createElement('a');\n",
              "      a.href = window.URL.createObjectURL(blob);\n",
              "      a.download = filename;\n",
              "      div.appendChild(a);\n",
              "      a.click();\n",
              "      div.remove();\n",
              "    }\n",
              "  "
            ]
          },
          "metadata": {}
        },
        {
          "output_type": "display_data",
          "data": {
            "text/plain": [
              "<IPython.core.display.Javascript object>"
            ],
            "application/javascript": [
              "download(\"download_d3cc91ac-7142-45bd-a41a-1865ef9f6b53\", \"RezoJDM16K.zip\", 5203059)"
            ]
          },
          "metadata": {}
        }
      ]
    },
    {
      "cell_type": "code",
      "source": [
        ""
      ],
      "metadata": {
        "id": "NdAhr0zZJtXk"
      },
      "execution_count": null,
      "outputs": []
    }
  ]
}